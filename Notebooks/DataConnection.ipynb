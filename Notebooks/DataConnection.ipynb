version https://git-lfs.github.com/spec/v1
oid sha256:559ad2a13008deb7abf22ff040e53027f3bc5e82d839561d49caa4baaf04ca51
size 140000
